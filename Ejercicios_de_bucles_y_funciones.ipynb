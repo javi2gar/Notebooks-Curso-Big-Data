{
  "nbformat": 4,
  "nbformat_minor": 0,
  "metadata": {
    "colab": {
      "name": "Ejercicios_de_bucles_y_funciones.ipynb",
      "provenance": [],
      "collapsed_sections": [],
      "include_colab_link": true
    },
    "kernelspec": {
      "name": "python3",
      "display_name": "Python 3"
    },
    "language_info": {
      "name": "python"
    }
  },
  "cells": [
    {
      "cell_type": "markdown",
      "metadata": {
        "id": "view-in-github",
        "colab_type": "text"
      },
      "source": [
        "<a href=\"https://colab.research.google.com/github/javi2gar/Notebooks-Curso-Big-Data/blob/main/Ejercicios_de_bucles_y_funciones.ipynb\" target=\"_parent\"><img src=\"https://colab.research.google.com/assets/colab-badge.svg\" alt=\"Open In Colab\"/></a>"
      ]
    },
    {
      "cell_type": "markdown",
      "metadata": {
        "id": "vtPh0W9YRARa"
      },
      "source": [
        "1. Escriba un programa que pida al usuario un número entero positivo y muestre por pantalla todos los números desde 1 hasta ese número."
      ]
    },
    {
      "cell_type": "code",
      "metadata": {
        "colab": {
          "base_uri": "https://localhost:8080/"
        },
        "id": "N8teYwFmpOGL",
        "outputId": "dee5330d-60b1-4646-8dea-085dccc885ad"
      },
      "source": [
        "num = int(input(\"Introduzca un número entero positivo:   \"))\n",
        "\n",
        "for i in range(1,num+1): \n",
        "  print(i)"
      ],
      "execution_count": null,
      "outputs": [
        {
          "output_type": "stream",
          "name": "stdout",
          "text": [
            "Introduzca un número entero positivo:   10\n",
            "1\n",
            "2\n",
            "3\n",
            "4\n",
            "5\n",
            "6\n",
            "7\n",
            "8\n",
            "9\n",
            "10\n"
          ]
        }
      ]
    },
    {
      "cell_type": "markdown",
      "metadata": {
        "id": "1nfFwNu3S5Pr"
      },
      "source": [
        "2. Escriba un programa que pida al usuario una palabra y luego muestre por pantalla una a una las letras de la palabra introducida empezando por la última."
      ]
    },
    {
      "cell_type": "code",
      "metadata": {
        "colab": {
          "base_uri": "https://localhost:8080/"
        },
        "id": "xbzwz2lA1xj8",
        "outputId": "5f35f1f0-43a2-4579-9a72-ec1fe7169ec6"
      },
      "source": [
        "palabra = input(\"Introduzca una palabra:   \")\n",
        "\n",
        "# Iterate over the string\n",
        "for letra in palabra:\n",
        "    print(letra)\n",
        "    \n",
        "print(\"\\n\")\n",
        "\n",
        "# Iterate over the string\n",
        "for letra in palabra:\n",
        "    print(letra, end=' ')\n",
        "\n",
        "print(\"\\n\")\n",
        "  \n",
        "# Iterate over index\n",
        "for letra in range(0, len(palabra)):\n",
        "    print(palabra[letra])\n",
        "\n",
        "print(\"\\n\")\n",
        "\n",
        "# With enumerate list\n",
        "for letra in enumerate(palabra):\n",
        "    print(letra)"
      ],
      "execution_count": 2,
      "outputs": [
        {
          "output_type": "stream",
          "name": "stdout",
          "text": [
            "Introduzca una palabra:   Palabra\n",
            "P\n",
            "a\n",
            "l\n",
            "a\n",
            "b\n",
            "r\n",
            "a\n",
            "\n",
            "\n",
            "P a l a b r a \n",
            "\n",
            "P\n",
            "a\n",
            "l\n",
            "a\n",
            "b\n",
            "r\n",
            "a\n",
            "\n",
            "\n",
            "(0, 'P')\n",
            "(1, 'a')\n",
            "(2, 'l')\n",
            "(3, 'a')\n",
            "(4, 'b')\n",
            "(5, 'r')\n",
            "(6, 'a')\n"
          ]
        }
      ]
    },
    {
      "cell_type": "markdown",
      "metadata": {
        "id": "2PVsgmVVTzD7"
      },
      "source": [
        "3. Escriba un programa que realice una cuenta atrás desde 10 usando \"while\""
      ]
    },
    {
      "cell_type": "code",
      "metadata": {
        "colab": {
          "base_uri": "https://localhost:8080/"
        },
        "id": "CPy_aILM_xcs",
        "outputId": "65b5e437-e31e-4228-cb53-701fcc79cb96"
      },
      "source": [
        "import time\n",
        "\n",
        "i=10\n",
        "\n",
        "while i>=0:\n",
        "  time.sleep(1)\n",
        "  print(i)\n",
        "  i-=1"
      ],
      "execution_count": 5,
      "outputs": [
        {
          "output_type": "stream",
          "name": "stdout",
          "text": [
            "10\n",
            "9\n",
            "8\n",
            "7\n",
            "6\n",
            "5\n",
            "4\n",
            "3\n",
            "2\n",
            "1\n",
            "0\n"
          ]
        }
      ]
    },
    {
      "cell_type": "markdown",
      "metadata": {
        "id": "5nLjf-yPVBE8"
      },
      "source": [
        "4. Escribir una función que muestre por pantalla el saludo ¡Hola! cada vez que se la invoque."
      ]
    },
    {
      "cell_type": "code",
      "metadata": {
        "colab": {
          "base_uri": "https://localhost:8080/"
        },
        "id": "mYEHBNwoBMhp",
        "outputId": "431c1031-4261-43e5-9215-8b00356cf143"
      },
      "source": [
        "def saludo():\n",
        "  print(\"¡Hola!\")\n",
        "\n",
        "saludo()"
      ],
      "execution_count": null,
      "outputs": [
        {
          "output_type": "stream",
          "name": "stdout",
          "text": [
            "¡Hola!\n"
          ]
        }
      ]
    },
    {
      "cell_type": "markdown",
      "metadata": {
        "id": "lpkaJay0VkO0"
      },
      "source": [
        "5. Escribir una función que solicite el nombre al usuario y muestre por pantalla el saludo ¡Hola +nombre! con el nombre del usuario"
      ]
    },
    {
      "cell_type": "code",
      "metadata": {
        "colab": {
          "base_uri": "https://localhost:8080/"
        },
        "id": "9alGsi4DBcB3",
        "outputId": "a4ced1d9-9a02-4cd5-9aa1-e0c0ee8747bb"
      },
      "source": [
        "def saludo():\n",
        "\n",
        "  nombre_usuario = input(\"Introduzca su nombre de usuario:   \")\n",
        "  print(\"¡Hola \" + nombre_usuario + \"! \")\n",
        "\n",
        "saludo()"
      ],
      "execution_count": 8,
      "outputs": [
        {
          "output_type": "stream",
          "name": "stdout",
          "text": [
            "Introduzca su nombre de usuario:   Jonay\n",
            "¡Hola Jonay! \n"
          ]
        }
      ]
    },
    {
      "cell_type": "markdown",
      "metadata": {
        "id": "qexAwuG4W8ak"
      },
      "source": [
        "6. Escriba una función llamada hipotenusa que devuelva el valor de la hipotenusa cuando se la invoque con el valor de los catetos de un triángulo rectángulo\n",
        "\n",
        "NOTA: \n",
        "\n",
        "$h^2 = a^2 + b^2$\n",
        "\n",
        "$h = (a^2 + b^2)^(1/2)$\n"
      ]
    },
    {
      "cell_type": "code",
      "metadata": {
        "id": "FzTYNWWk2J5G"
      },
      "source": [
        "def hipotenusa(a, b):\n",
        "\n",
        "  return (a**2+b**2)**(1/2)"
      ],
      "execution_count": 10,
      "outputs": []
    },
    {
      "cell_type": "code",
      "metadata": {
        "colab": {
          "base_uri": "https://localhost:8080/"
        },
        "id": "W3GBontX2Yuj",
        "outputId": "6809b348-c747-4c92-d958-f1480a6f1274"
      },
      "source": [
        "hipotenusa(2,3)"
      ],
      "execution_count": 11,
      "outputs": [
        {
          "output_type": "execute_result",
          "data": {
            "text/plain": [
              "3.605551275463989"
            ]
          },
          "metadata": {},
          "execution_count": 11
        }
      ]
    },
    {
      "cell_type": "code",
      "metadata": {
        "colab": {
          "base_uri": "https://localhost:8080/"
        },
        "id": "hfGCb4g3CVau",
        "outputId": "b4b62a0d-eb82-4a89-8976-5ca01633ec0a"
      },
      "source": [
        "import math\n",
        "\n",
        "a = float(input(\"a=  \"))\n",
        "b = float(input(\"b=  \"))\n",
        "\n",
        "def hipotenusa(a, b):\n",
        "  h = math.sqrt(a**2+b**2)\n",
        "  print(f'{h:.2f}')\n",
        "\n",
        "hipotenusa(a, b)"
      ],
      "execution_count": 14,
      "outputs": [
        {
          "output_type": "stream",
          "name": "stdout",
          "text": [
            "a=  2\n",
            "b=  3\n",
            "3.61\n"
          ]
        }
      ]
    }
  ]
}
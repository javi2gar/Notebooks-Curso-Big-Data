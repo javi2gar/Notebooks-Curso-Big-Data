{
  "nbformat": 4,
  "nbformat_minor": 0,
  "metadata": {
    "colab": {
      "name": "Ejercicios_de_bucles_y_funciones.ipynb",
      "provenance": [],
      "collapsed_sections": [],
      "include_colab_link": true
    },
    "kernelspec": {
      "name": "python3",
      "display_name": "Python 3"
    },
    "language_info": {
      "name": "python"
    }
  },
  "cells": [
    {
      "cell_type": "markdown",
      "metadata": {
        "id": "view-in-github",
        "colab_type": "text"
      },
      "source": [
        "<a href=\"https://colab.research.google.com/github/javi2gar/Notebooks-Curso-Big-Data/blob/main/Ejercicios_de_bucles_y_funciones.ipynb\" target=\"_parent\"><img src=\"https://colab.research.google.com/assets/colab-badge.svg\" alt=\"Open In Colab\"/></a>"
      ]
    },
    {
      "cell_type": "markdown",
      "metadata": {
        "id": "vtPh0W9YRARa"
      },
      "source": [
        "1. Escriba un programa que pida al usuario un número entero positivo y muestre por pantalla todos los números desde 1 hasta ese número."
      ]
    },
    {
      "cell_type": "code",
      "metadata": {
        "colab": {
          "base_uri": "https://localhost:8080/"
        },
        "id": "N8teYwFmpOGL",
        "outputId": "62b4a8ef-4e1a-4446-d03a-8f1b9a2ec015"
      },
      "source": [
        "num = int(input(\"Introduzca un número entero positivo:   \"))\n",
        "\n",
        "for i in range(1,num+1): \n",
        "  print(i)"
      ],
      "execution_count": null,
      "outputs": [
        {
          "output_type": "stream",
          "name": "stdout",
          "text": [
            "Introduzca un número entero positivo:   10\n",
            "1\n",
            "2\n",
            "3\n",
            "4\n",
            "5\n",
            "6\n",
            "7\n",
            "8\n",
            "9\n",
            "10\n"
          ]
        }
      ]
    },
    {
      "cell_type": "markdown",
      "metadata": {
        "id": "1nfFwNu3S5Pr"
      },
      "source": [
        "2. Escriba un programa que pida al usuario una palabra y luego muestre por pantalla una a una las letras de la palabra introducida empezando por la última."
      ]
    },
    {
      "cell_type": "code",
      "metadata": {
        "colab": {
          "base_uri": "https://localhost:8080/"
        },
        "id": "xbzwz2lA1xj8",
        "outputId": "c2a5375e-7e03-4c68-8eed-7debf3235eb9"
      },
      "source": [
        "palabra = input(\"Introduzca una palabra:   \")\n",
        "\n",
        "# Iterate over the string\n",
        "for letra in palabra:\n",
        "    print(letra, end=' ')\n",
        "\n",
        "print(\"\\n\")\n",
        "  \n",
        "# Iterate over index\n",
        "for letra in range(0, len(palabra)):\n",
        "    print(palabra[letra])"
      ],
      "execution_count": 60,
      "outputs": [
        {
          "output_type": "stream",
          "name": "stdout",
          "text": [
            "Introduzca una palabra:   Ornitorrinco\n",
            "O r n i t o r r i n c o \n",
            "\n",
            "O\n",
            "r\n",
            "n\n",
            "i\n",
            "t\n",
            "o\n",
            "r\n",
            "r\n",
            "i\n",
            "n\n",
            "c\n",
            "o\n"
          ]
        }
      ]
    },
    {
      "cell_type": "markdown",
      "metadata": {
        "id": "2PVsgmVVTzD7"
      },
      "source": [
        "3. Escriba un programa que realice una cuenta atrás desde 10 usando \"while\""
      ]
    },
    {
      "cell_type": "code",
      "metadata": {
        "colab": {
          "base_uri": "https://localhost:8080/"
        },
        "id": "CPy_aILM_xcs",
        "outputId": "68059446-4ac9-492a-9ca2-cbc0a387521e"
      },
      "source": [
        "import time\n",
        "i=10\n",
        "while(i<=10 and i>=0):\n",
        "  time.sleep(1)\n",
        "  print(i)\n",
        "  i= i-1"
      ],
      "execution_count": 43,
      "outputs": [
        {
          "output_type": "stream",
          "name": "stdout",
          "text": [
            "10\n",
            "9\n",
            "8\n",
            "7\n",
            "6\n",
            "5\n",
            "4\n",
            "3\n",
            "2\n",
            "1\n",
            "0\n"
          ]
        }
      ]
    },
    {
      "cell_type": "markdown",
      "metadata": {
        "id": "5nLjf-yPVBE8"
      },
      "source": [
        "4. Escribir una función que muestre por pantalla el saludo ¡Hola! cada vez que se la invoque."
      ]
    },
    {
      "cell_type": "code",
      "metadata": {
        "colab": {
          "base_uri": "https://localhost:8080/"
        },
        "id": "mYEHBNwoBMhp",
        "outputId": "137eae70-6e3e-49b3-a48c-0c9b61322e67"
      },
      "source": [
        "def saludo():\n",
        "  print(\"¡Hola!\")\n",
        "\n",
        "saludo()"
      ],
      "execution_count": 44,
      "outputs": [
        {
          "output_type": "stream",
          "name": "stdout",
          "text": [
            "¡Hola!\n"
          ]
        }
      ]
    },
    {
      "cell_type": "markdown",
      "metadata": {
        "id": "lpkaJay0VkO0"
      },
      "source": [
        "5. Escribir una función que solicite el nombre al usuario y muestre por pantalla el saludo ¡Hola +nombre! con el nombre del usuario"
      ]
    },
    {
      "cell_type": "code",
      "metadata": {
        "colab": {
          "base_uri": "https://localhost:8080/"
        },
        "id": "9alGsi4DBcB3",
        "outputId": "9ea23f81-40db-4fa6-da0c-e733b41839a7"
      },
      "source": [
        "def saludo():\n",
        "  nombre_usuario = input(\"Introduzca su nombre de usuario:   \")\n",
        "  print(\"¡Hola\", nombre_usuario,\"! \")\n",
        "\n",
        "saludo()"
      ],
      "execution_count": 52,
      "outputs": [
        {
          "output_type": "stream",
          "name": "stdout",
          "text": [
            "Introduzca su nombre de usuario:   Jonay\n",
            "¡Hola Jonay ! \n"
          ]
        }
      ]
    },
    {
      "cell_type": "markdown",
      "metadata": {
        "id": "qexAwuG4W8ak"
      },
      "source": [
        "6. Escriba una función llamada hipotenusa que devuelva el valor de la hipotenusa cuando se la invoque con el valor de los catetos de un triángulo rectángulo\n",
        "\n",
        "NOTA: \n",
        "\n",
        "$h^2 = a^2 + b^2$\n",
        "\n",
        "$h = (a^2 + b^2)^(1/2)$\n"
      ]
    },
    {
      "cell_type": "code",
      "metadata": {
        "colab": {
          "base_uri": "https://localhost:8080/"
        },
        "id": "hfGCb4g3CVau",
        "outputId": "1f3e8e5b-d772-4780-eb41-305a0fab238c"
      },
      "source": [
        "import math\n",
        "\n",
        "a = float(input(\"a=  \"))\n",
        "b = float(input(\"b=  \"))\n",
        "\n",
        "def hipotenusa(a, b):\n",
        "  h = math.sqrt(a**2+b**2)\n",
        "  print(f'{h:.2f}')\n",
        "\n",
        "hipotenusa(a, b)"
      ],
      "execution_count": 59,
      "outputs": [
        {
          "output_type": "stream",
          "name": "stdout",
          "text": [
            "a=  2\n",
            "b=  3\n",
            "3.61\n"
          ]
        }
      ]
    }
  ]
}